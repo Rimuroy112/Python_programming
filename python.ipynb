{
 "cells": [
  {
   "cell_type": "code",
   "execution_count": 1,
   "id": "a946c59a-ee39-4fc1-ae9b-62e5597de21b",
   "metadata": {},
   "outputs": [
    {
     "name": "stdout",
     "output_type": "stream",
     "text": [
      "Hello python\n"
     ]
    }
   ],
   "source": [
    "print(\"Hello python\")"
   ]
  },
  {
   "cell_type": "code",
   "execution_count": 2,
   "id": "ff7b9058-2255-4246-b575-c39ca28da2f7",
   "metadata": {},
   "outputs": [
    {
     "name": "stdout",
     "output_type": "stream",
     "text": [
      "Hello again\n"
     ]
    }
   ],
   "source": [
    "print(\"Hello again\")"
   ]
  },
  {
   "cell_type": "code",
   "execution_count": 4,
   "id": "51fb2f20-4ba0-4fb4-99e7-87d49e16a4a0",
   "metadata": {},
   "outputs": [
    {
     "name": "stdout",
     "output_type": "stream",
     "text": [
      "Hello again and again\n"
     ]
    }
   ],
   "source": [
    "print(\"Hello again and again\")"
   ]
  },
  {
   "cell_type": "code",
   "execution_count": 5,
   "id": "6761bc0b-f3db-4e4d-9cbc-08e30af3b001",
   "metadata": {},
   "outputs": [
    {
     "name": "stdout",
     "output_type": "stream",
     "text": [
      "Hello Hello\n"
     ]
    }
   ],
   "source": [
    "print(\"Hello Hello\")"
   ]
  },
  {
   "cell_type": "code",
   "execution_count": null,
   "id": "cc74b4df-b178-4d11-827e-2b52b0fcc4c9",
   "metadata": {},
   "outputs": [],
   "source": []
  }
 ],
 "metadata": {
  "kernelspec": {
   "display_name": "Python (tfvenv)",
   "language": "python",
   "name": "tfvenv"
  },
  "language_info": {
   "codemirror_mode": {
    "name": "ipython",
    "version": 3
   },
   "file_extension": ".py",
   "mimetype": "text/x-python",
   "name": "python",
   "nbconvert_exporter": "python",
   "pygments_lexer": "ipython3",
   "version": "3.11.5"
  }
 },
 "nbformat": 4,
 "nbformat_minor": 5
}
